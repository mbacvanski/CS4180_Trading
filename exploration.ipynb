{
 "cells": [
  {
   "cell_type": "code",
   "execution_count": 1,
   "outputs": [],
   "source": [
    "import pandas as pd\n",
    "from easydict import EasyDict"
   ],
   "metadata": {
    "collapsed": false
   }
  },
  {
   "cell_type": "code",
   "execution_count": 2,
   "metadata": {
    "collapsed": true
   },
   "outputs": [],
   "source": [
    "df = pd.read_csv('GOOG.csv', parse_dates=True, index_col='Date')"
   ]
  },
  {
   "cell_type": "code",
   "execution_count": 3,
   "outputs": [
    {
     "data": {
      "text/plain": "                  Open        High         Low       Close   Adj Close  \\\nDate                                                                     \n2004-08-19    2.490664    2.591785    2.390042    2.499133    2.499133   \n2004-08-20    2.515820    2.716817    2.503118    2.697639    2.697639   \n2004-08-23    2.758411    2.826406    2.716070    2.724787    2.724787   \n2004-08-24    2.770615    2.779581    2.579581    2.611960    2.611960   \n2004-08-25    2.614201    2.689918    2.587302    2.640104    2.640104   \n...                ...         ...         ...         ...         ...   \n2022-11-29   96.000000   96.389999   94.389999   95.440002   95.440002   \n2022-11-30   95.120003  101.449997   94.669998  101.449997  101.449997   \n2022-12-01  101.400002  102.589996  100.669998  101.279999  101.279999   \n2022-12-02   99.370003  101.150002   99.169998  100.830002  100.830002   \n2022-12-05   99.815002  101.750000   99.355003   99.870003   99.870003   \n\n               Volume  \nDate                   \n2004-08-19  897427216  \n2004-08-20  458857488  \n2004-08-23  366857939  \n2004-08-24  306396159  \n2004-08-25  184645512  \n...               ...  \n2022-11-29   20220000  \n2022-11-30   39888100  \n2022-12-01   21771500  \n2022-12-02   18812200  \n2022-12-05   19955500  \n\n[4607 rows x 6 columns]",
      "text/html": "<div>\n<style scoped>\n    .dataframe tbody tr th:only-of-type {\n        vertical-align: middle;\n    }\n\n    .dataframe tbody tr th {\n        vertical-align: top;\n    }\n\n    .dataframe thead th {\n        text-align: right;\n    }\n</style>\n<table border=\"1\" class=\"dataframe\">\n  <thead>\n    <tr style=\"text-align: right;\">\n      <th></th>\n      <th>Open</th>\n      <th>High</th>\n      <th>Low</th>\n      <th>Close</th>\n      <th>Adj Close</th>\n      <th>Volume</th>\n    </tr>\n    <tr>\n      <th>Date</th>\n      <th></th>\n      <th></th>\n      <th></th>\n      <th></th>\n      <th></th>\n      <th></th>\n    </tr>\n  </thead>\n  <tbody>\n    <tr>\n      <th>2004-08-19</th>\n      <td>2.490664</td>\n      <td>2.591785</td>\n      <td>2.390042</td>\n      <td>2.499133</td>\n      <td>2.499133</td>\n      <td>897427216</td>\n    </tr>\n    <tr>\n      <th>2004-08-20</th>\n      <td>2.515820</td>\n      <td>2.716817</td>\n      <td>2.503118</td>\n      <td>2.697639</td>\n      <td>2.697639</td>\n      <td>458857488</td>\n    </tr>\n    <tr>\n      <th>2004-08-23</th>\n      <td>2.758411</td>\n      <td>2.826406</td>\n      <td>2.716070</td>\n      <td>2.724787</td>\n      <td>2.724787</td>\n      <td>366857939</td>\n    </tr>\n    <tr>\n      <th>2004-08-24</th>\n      <td>2.770615</td>\n      <td>2.779581</td>\n      <td>2.579581</td>\n      <td>2.611960</td>\n      <td>2.611960</td>\n      <td>306396159</td>\n    </tr>\n    <tr>\n      <th>2004-08-25</th>\n      <td>2.614201</td>\n      <td>2.689918</td>\n      <td>2.587302</td>\n      <td>2.640104</td>\n      <td>2.640104</td>\n      <td>184645512</td>\n    </tr>\n    <tr>\n      <th>...</th>\n      <td>...</td>\n      <td>...</td>\n      <td>...</td>\n      <td>...</td>\n      <td>...</td>\n      <td>...</td>\n    </tr>\n    <tr>\n      <th>2022-11-29</th>\n      <td>96.000000</td>\n      <td>96.389999</td>\n      <td>94.389999</td>\n      <td>95.440002</td>\n      <td>95.440002</td>\n      <td>20220000</td>\n    </tr>\n    <tr>\n      <th>2022-11-30</th>\n      <td>95.120003</td>\n      <td>101.449997</td>\n      <td>94.669998</td>\n      <td>101.449997</td>\n      <td>101.449997</td>\n      <td>39888100</td>\n    </tr>\n    <tr>\n      <th>2022-12-01</th>\n      <td>101.400002</td>\n      <td>102.589996</td>\n      <td>100.669998</td>\n      <td>101.279999</td>\n      <td>101.279999</td>\n      <td>21771500</td>\n    </tr>\n    <tr>\n      <th>2022-12-02</th>\n      <td>99.370003</td>\n      <td>101.150002</td>\n      <td>99.169998</td>\n      <td>100.830002</td>\n      <td>100.830002</td>\n      <td>18812200</td>\n    </tr>\n    <tr>\n      <th>2022-12-05</th>\n      <td>99.815002</td>\n      <td>101.750000</td>\n      <td>99.355003</td>\n      <td>99.870003</td>\n      <td>99.870003</td>\n      <td>19955500</td>\n    </tr>\n  </tbody>\n</table>\n<p>4607 rows × 6 columns</p>\n</div>"
     },
     "execution_count": 3,
     "metadata": {},
     "output_type": "execute_result"
    }
   ],
   "source": [
    "df"
   ],
   "metadata": {
    "collapsed": false
   }
  },
  {
   "cell_type": "code",
   "execution_count": 4,
   "outputs": [
    {
     "data": {
      "text/plain": "Open         6.003400e+01\nHigh         6.018925e+01\nLow          5.982175e+01\nClose        6.010800e+01\nAdj Close    6.010800e+01\nVolume       1.449200e+07\nName: 2019-04-10 00:00:00, dtype: float64"
     },
     "execution_count": 4,
     "metadata": {},
     "output_type": "execute_result"
    }
   ],
   "source": [
    "df.iloc[int(0.8 * len(df))]"
   ],
   "metadata": {
    "collapsed": false
   }
  },
  {
   "cell_type": "code",
   "execution_count": 5,
   "outputs": [],
   "source": [
    "from environment.stocks_env import StocksEnv"
   ],
   "metadata": {
    "collapsed": false
   }
  },
  {
   "cell_type": "code",
   "execution_count": 6,
   "outputs": [],
   "source": [
    "env = StocksEnv(EasyDict({\n",
    "    \"env_id\": 'stocks-dqn-e', \"eps_length\": 200,\n",
    "    \"window_size\": 200, \"train_ratio\": 0.7, 'validation_ratio': 0.15, \"test_ratio\": 0.15,\n",
    "    \"stocks_data_filename\": 'GOOG'\n",
    "}))"
   ],
   "metadata": {
    "collapsed": false
   }
  },
  {
   "cell_type": "code",
   "execution_count": 8,
   "outputs": [
    {
     "data": {
      "text/plain": "State(history=array([[-0.75570667, -0.7341606 , -0.73750204, -0.7472568 , -0.75570667,\n         0.3357004 ],\n       [-0.74145406, -0.75323546, -0.74826187, -0.7602719 , -0.74145406,\n         0.6116234 ],\n       [-0.7798889 , -0.75286144, -0.7549564 , -0.7703693 , -0.7798889 ,\n         1.0922706 ],\n       ...,\n       [-0.7368549 , -0.7426492 , -0.7393894 , -0.7324877 , -0.7368549 ,\n        -0.27176276],\n       [-0.7253001 , -0.73521763, -0.7289039 , -0.72729146, -0.7253001 ,\n        -0.14918427],\n       [-0.6963399 , -0.7147117 , -0.70454514, -0.7073098 , -0.6963399 ,\n         1.0571787 ]], dtype=float32), position_history=[<Position.FLAT: 0>], tick=0.005)"
     },
     "execution_count": 8,
     "metadata": {},
     "output_type": "execute_result"
    }
   ],
   "source": [
    "env.reset()"
   ],
   "metadata": {
    "collapsed": false
   }
  },
  {
   "cell_type": "code",
   "execution_count": null,
   "outputs": [],
   "source": [],
   "metadata": {
    "collapsed": false
   }
  }
 ],
 "metadata": {
  "kernelspec": {
   "display_name": "Python 3",
   "language": "python",
   "name": "python3"
  },
  "language_info": {
   "codemirror_mode": {
    "name": "ipython",
    "version": 2
   },
   "file_extension": ".py",
   "mimetype": "text/x-python",
   "name": "python",
   "nbconvert_exporter": "python",
   "pygments_lexer": "ipython2",
   "version": "2.7.6"
  }
 },
 "nbformat": 4,
 "nbformat_minor": 0
}
